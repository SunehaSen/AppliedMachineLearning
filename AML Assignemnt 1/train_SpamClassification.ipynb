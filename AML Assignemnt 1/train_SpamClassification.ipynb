{
  "nbformat": 4,
  "nbformat_minor": 0,
  "metadata": {
    "colab": {
      "provenance": []
    },
    "kernelspec": {
      "name": "python3",
      "display_name": "Python 3"
    },
    "language_info": {
      "name": "python"
    }
  },
  "cells": [
    {
      "cell_type": "markdown",
      "source": [
        "Importing the necessary libraries"
      ],
      "metadata": {
        "id": "r1_1aEnJyQr-"
      }
    },
    {
      "cell_type": "code",
      "execution_count": 1,
      "metadata": {
        "id": "xp9oVwvYUDTr"
      },
      "outputs": [],
      "source": [
        "import pandas as pd\n",
        "import numpy as np\n",
        "from sklearn.feature_extraction.text import TfidfVectorizer\n",
        "from sklearn.model_selection import train_test_split\n",
        "from sklearn.linear_model import LogisticRegression\n",
        "from sklearn.ensemble import RandomForestClassifier\n",
        "from sklearn.svm import SVC\n",
        "from sklearn.metrics import accuracy_score, precision_score, recall_score, f1_score, classification_report\n",
        "from sklearn.model_selection import GridSearchCV\n"
      ]
    },
    {
      "cell_type": "code",
      "source": [
        "# Load train, validation, and test datasets\n",
        "train_data = pd.read_csv(\"train.csv\")\n",
        "validation_data = pd.read_csv(\"validation.csv\")\n",
        "test_data = pd.read_csv(\"test.csv\")"
      ],
      "metadata": {
        "id": "BSYafgWWWS2A"
      },
      "execution_count": 2,
      "outputs": []
    },
    {
      "cell_type": "code",
      "source": [
        "train_data.head()"
      ],
      "metadata": {
        "colab": {
          "base_uri": "https://localhost:8080/",
          "height": 204
        },
        "id": "vwtczajhz6hG",
        "outputId": "fb7ad230-fb5e-4f80-a8b7-5f013bc9fdba"
      },
      "execution_count": 33,
      "outputs": [
        {
          "output_type": "execute_result",
          "data": {
            "text/plain": [
              "   label                                            message\n",
              "0      1  goal arsenal  henry  v liverpool  henry scores...\n",
              "1      0  they said if its gonna snow it will start arou...\n",
              "2      0                            aah bless hows your arm\n",
              "3      0                         oh k  i will come tomorrow\n",
              "4      0  whats happening with you have you gotten a job..."
            ],
            "text/html": [
              "\n",
              "  <div id=\"df-549accef-7818-4746-b1a0-10d1cbb622db\" class=\"colab-df-container\">\n",
              "    <div>\n",
              "<style scoped>\n",
              "    .dataframe tbody tr th:only-of-type {\n",
              "        vertical-align: middle;\n",
              "    }\n",
              "\n",
              "    .dataframe tbody tr th {\n",
              "        vertical-align: top;\n",
              "    }\n",
              "\n",
              "    .dataframe thead th {\n",
              "        text-align: right;\n",
              "    }\n",
              "</style>\n",
              "<table border=\"1\" class=\"dataframe\">\n",
              "  <thead>\n",
              "    <tr style=\"text-align: right;\">\n",
              "      <th></th>\n",
              "      <th>label</th>\n",
              "      <th>message</th>\n",
              "    </tr>\n",
              "  </thead>\n",
              "  <tbody>\n",
              "    <tr>\n",
              "      <th>0</th>\n",
              "      <td>1</td>\n",
              "      <td>goal arsenal  henry  v liverpool  henry scores...</td>\n",
              "    </tr>\n",
              "    <tr>\n",
              "      <th>1</th>\n",
              "      <td>0</td>\n",
              "      <td>they said if its gonna snow it will start arou...</td>\n",
              "    </tr>\n",
              "    <tr>\n",
              "      <th>2</th>\n",
              "      <td>0</td>\n",
              "      <td>aah bless hows your arm</td>\n",
              "    </tr>\n",
              "    <tr>\n",
              "      <th>3</th>\n",
              "      <td>0</td>\n",
              "      <td>oh k  i will come tomorrow</td>\n",
              "    </tr>\n",
              "    <tr>\n",
              "      <th>4</th>\n",
              "      <td>0</td>\n",
              "      <td>whats happening with you have you gotten a job...</td>\n",
              "    </tr>\n",
              "  </tbody>\n",
              "</table>\n",
              "</div>\n",
              "    <div class=\"colab-df-buttons\">\n",
              "\n",
              "  <div class=\"colab-df-container\">\n",
              "    <button class=\"colab-df-convert\" onclick=\"convertToInteractive('df-549accef-7818-4746-b1a0-10d1cbb622db')\"\n",
              "            title=\"Convert this dataframe to an interactive table.\"\n",
              "            style=\"display:none;\">\n",
              "\n",
              "  <svg xmlns=\"http://www.w3.org/2000/svg\" height=\"24px\" viewBox=\"0 -960 960 960\">\n",
              "    <path d=\"M120-120v-720h720v720H120Zm60-500h600v-160H180v160Zm220 220h160v-160H400v160Zm0 220h160v-160H400v160ZM180-400h160v-160H180v160Zm440 0h160v-160H620v160ZM180-180h160v-160H180v160Zm440 0h160v-160H620v160Z\"/>\n",
              "  </svg>\n",
              "    </button>\n",
              "\n",
              "  <style>\n",
              "    .colab-df-container {\n",
              "      display:flex;\n",
              "      gap: 12px;\n",
              "    }\n",
              "\n",
              "    .colab-df-convert {\n",
              "      background-color: #E8F0FE;\n",
              "      border: none;\n",
              "      border-radius: 50%;\n",
              "      cursor: pointer;\n",
              "      display: none;\n",
              "      fill: #1967D2;\n",
              "      height: 32px;\n",
              "      padding: 0 0 0 0;\n",
              "      width: 32px;\n",
              "    }\n",
              "\n",
              "    .colab-df-convert:hover {\n",
              "      background-color: #E2EBFA;\n",
              "      box-shadow: 0px 1px 2px rgba(60, 64, 67, 0.3), 0px 1px 3px 1px rgba(60, 64, 67, 0.15);\n",
              "      fill: #174EA6;\n",
              "    }\n",
              "\n",
              "    .colab-df-buttons div {\n",
              "      margin-bottom: 4px;\n",
              "    }\n",
              "\n",
              "    [theme=dark] .colab-df-convert {\n",
              "      background-color: #3B4455;\n",
              "      fill: #D2E3FC;\n",
              "    }\n",
              "\n",
              "    [theme=dark] .colab-df-convert:hover {\n",
              "      background-color: #434B5C;\n",
              "      box-shadow: 0px 1px 3px 1px rgba(0, 0, 0, 0.15);\n",
              "      filter: drop-shadow(0px 1px 2px rgba(0, 0, 0, 0.3));\n",
              "      fill: #FFFFFF;\n",
              "    }\n",
              "  </style>\n",
              "\n",
              "    <script>\n",
              "      const buttonEl =\n",
              "        document.querySelector('#df-549accef-7818-4746-b1a0-10d1cbb622db button.colab-df-convert');\n",
              "      buttonEl.style.display =\n",
              "        google.colab.kernel.accessAllowed ? 'block' : 'none';\n",
              "\n",
              "      async function convertToInteractive(key) {\n",
              "        const element = document.querySelector('#df-549accef-7818-4746-b1a0-10d1cbb622db');\n",
              "        const dataTable =\n",
              "          await google.colab.kernel.invokeFunction('convertToInteractive',\n",
              "                                                    [key], {});\n",
              "        if (!dataTable) return;\n",
              "\n",
              "        const docLinkHtml = 'Like what you see? Visit the ' +\n",
              "          '<a target=\"_blank\" href=https://colab.research.google.com/notebooks/data_table.ipynb>data table notebook</a>'\n",
              "          + ' to learn more about interactive tables.';\n",
              "        element.innerHTML = '';\n",
              "        dataTable['output_type'] = 'display_data';\n",
              "        await google.colab.output.renderOutput(dataTable, element);\n",
              "        const docLink = document.createElement('div');\n",
              "        docLink.innerHTML = docLinkHtml;\n",
              "        element.appendChild(docLink);\n",
              "      }\n",
              "    </script>\n",
              "  </div>\n",
              "\n",
              "\n",
              "<div id=\"df-091b24b8-6cbd-46f7-8b55-fa16e0b165c0\">\n",
              "  <button class=\"colab-df-quickchart\" onclick=\"quickchart('df-091b24b8-6cbd-46f7-8b55-fa16e0b165c0')\"\n",
              "            title=\"Suggest charts\"\n",
              "            style=\"display:none;\">\n",
              "\n",
              "<svg xmlns=\"http://www.w3.org/2000/svg\" height=\"24px\"viewBox=\"0 0 24 24\"\n",
              "     width=\"24px\">\n",
              "    <g>\n",
              "        <path d=\"M19 3H5c-1.1 0-2 .9-2 2v14c0 1.1.9 2 2 2h14c1.1 0 2-.9 2-2V5c0-1.1-.9-2-2-2zM9 17H7v-7h2v7zm4 0h-2V7h2v10zm4 0h-2v-4h2v4z\"/>\n",
              "    </g>\n",
              "</svg>\n",
              "  </button>\n",
              "\n",
              "<style>\n",
              "  .colab-df-quickchart {\n",
              "      --bg-color: #E8F0FE;\n",
              "      --fill-color: #1967D2;\n",
              "      --hover-bg-color: #E2EBFA;\n",
              "      --hover-fill-color: #174EA6;\n",
              "      --disabled-fill-color: #AAA;\n",
              "      --disabled-bg-color: #DDD;\n",
              "  }\n",
              "\n",
              "  [theme=dark] .colab-df-quickchart {\n",
              "      --bg-color: #3B4455;\n",
              "      --fill-color: #D2E3FC;\n",
              "      --hover-bg-color: #434B5C;\n",
              "      --hover-fill-color: #FFFFFF;\n",
              "      --disabled-bg-color: #3B4455;\n",
              "      --disabled-fill-color: #666;\n",
              "  }\n",
              "\n",
              "  .colab-df-quickchart {\n",
              "    background-color: var(--bg-color);\n",
              "    border: none;\n",
              "    border-radius: 50%;\n",
              "    cursor: pointer;\n",
              "    display: none;\n",
              "    fill: var(--fill-color);\n",
              "    height: 32px;\n",
              "    padding: 0;\n",
              "    width: 32px;\n",
              "  }\n",
              "\n",
              "  .colab-df-quickchart:hover {\n",
              "    background-color: var(--hover-bg-color);\n",
              "    box-shadow: 0 1px 2px rgba(60, 64, 67, 0.3), 0 1px 3px 1px rgba(60, 64, 67, 0.15);\n",
              "    fill: var(--button-hover-fill-color);\n",
              "  }\n",
              "\n",
              "  .colab-df-quickchart-complete:disabled,\n",
              "  .colab-df-quickchart-complete:disabled:hover {\n",
              "    background-color: var(--disabled-bg-color);\n",
              "    fill: var(--disabled-fill-color);\n",
              "    box-shadow: none;\n",
              "  }\n",
              "\n",
              "  .colab-df-spinner {\n",
              "    border: 2px solid var(--fill-color);\n",
              "    border-color: transparent;\n",
              "    border-bottom-color: var(--fill-color);\n",
              "    animation:\n",
              "      spin 1s steps(1) infinite;\n",
              "  }\n",
              "\n",
              "  @keyframes spin {\n",
              "    0% {\n",
              "      border-color: transparent;\n",
              "      border-bottom-color: var(--fill-color);\n",
              "      border-left-color: var(--fill-color);\n",
              "    }\n",
              "    20% {\n",
              "      border-color: transparent;\n",
              "      border-left-color: var(--fill-color);\n",
              "      border-top-color: var(--fill-color);\n",
              "    }\n",
              "    30% {\n",
              "      border-color: transparent;\n",
              "      border-left-color: var(--fill-color);\n",
              "      border-top-color: var(--fill-color);\n",
              "      border-right-color: var(--fill-color);\n",
              "    }\n",
              "    40% {\n",
              "      border-color: transparent;\n",
              "      border-right-color: var(--fill-color);\n",
              "      border-top-color: var(--fill-color);\n",
              "    }\n",
              "    60% {\n",
              "      border-color: transparent;\n",
              "      border-right-color: var(--fill-color);\n",
              "    }\n",
              "    80% {\n",
              "      border-color: transparent;\n",
              "      border-right-color: var(--fill-color);\n",
              "      border-bottom-color: var(--fill-color);\n",
              "    }\n",
              "    90% {\n",
              "      border-color: transparent;\n",
              "      border-bottom-color: var(--fill-color);\n",
              "    }\n",
              "  }\n",
              "</style>\n",
              "\n",
              "  <script>\n",
              "    async function quickchart(key) {\n",
              "      const quickchartButtonEl =\n",
              "        document.querySelector('#' + key + ' button');\n",
              "      quickchartButtonEl.disabled = true;  // To prevent multiple clicks.\n",
              "      quickchartButtonEl.classList.add('colab-df-spinner');\n",
              "      try {\n",
              "        const charts = await google.colab.kernel.invokeFunction(\n",
              "            'suggestCharts', [key], {});\n",
              "      } catch (error) {\n",
              "        console.error('Error during call to suggestCharts:', error);\n",
              "      }\n",
              "      quickchartButtonEl.classList.remove('colab-df-spinner');\n",
              "      quickchartButtonEl.classList.add('colab-df-quickchart-complete');\n",
              "    }\n",
              "    (() => {\n",
              "      let quickchartButtonEl =\n",
              "        document.querySelector('#df-091b24b8-6cbd-46f7-8b55-fa16e0b165c0 button');\n",
              "      quickchartButtonEl.style.display =\n",
              "        google.colab.kernel.accessAllowed ? 'block' : 'none';\n",
              "    })();\n",
              "  </script>\n",
              "</div>\n",
              "\n",
              "    </div>\n",
              "  </div>\n"
            ],
            "application/vnd.google.colaboratory.intrinsic+json": {
              "type": "dataframe",
              "variable_name": "train_data",
              "summary": "{\n  \"name\": \"train_data\",\n  \"rows\": 3900,\n  \"fields\": [\n    {\n      \"column\": \"label\",\n      \"properties\": {\n        \"dtype\": \"number\",\n        \"std\": 0,\n        \"min\": 0,\n        \"max\": 1,\n        \"num_unique_values\": 2,\n        \"samples\": [\n          0,\n          1\n        ],\n        \"semantic_type\": \"\",\n        \"description\": \"\"\n      }\n    },\n    {\n      \"column\": \"message\",\n      \"properties\": {\n        \"dtype\": \"string\",\n        \"num_unique_values\": 3648,\n        \"samples\": [\n          \"sorry me going home first daddy come fetch \\u00fc later\",\n          \"thanks for looking out for me i really appreciate\"\n        ],\n        \"semantic_type\": \"\",\n        \"description\": \"\"\n      }\n    }\n  ]\n}"
            }
          },
          "metadata": {},
          "execution_count": 33
        }
      ]
    },
    {
      "cell_type": "code",
      "source": [
        "# Separate features and labels\n",
        "X_train, y_train = train_data['message'], train_data['label']\n",
        "X_validation, y_validation = validation_data['message'], validation_data['label']\n",
        "X_test, y_test = test_data['message'], test_data['label']"
      ],
      "metadata": {
        "id": "DjFU2V-SW_a1"
      },
      "execution_count": 3,
      "outputs": []
    },
    {
      "cell_type": "code",
      "source": [
        "# Convert text to numerical features using TF-IDF\n",
        "vectorizer = TfidfVectorizer(max_features=5000)\n",
        "X_train = X_train.fillna('')\n",
        "X_validation = X_validation.fillna('')\n",
        "X_test = X_test.fillna('')\n",
        "X_train_tfidf = vectorizer.fit_transform(X_train)\n",
        "X_validation_tfidf = vectorizer.transform(X_validation)\n",
        "X_test_tfidf = vectorizer.transform(X_test)"
      ],
      "metadata": {
        "id": "398HGEkwXEgc"
      },
      "execution_count": 4,
      "outputs": []
    },
    {
      "cell_type": "markdown",
      "source": [
        "#Defining the utility functions#"
      ],
      "metadata": {
        "id": "hF2x3SYuXgDI"
      }
    },
    {
      "cell_type": "code",
      "source": [
        "def fit_model(model, X_train, y_train):\n",
        "    model.fit(X_train, y_train)\n",
        "    return model\n"
      ],
      "metadata": {
        "id": "bq578r-LXYqv"
      },
      "execution_count": 5,
      "outputs": []
    },
    {
      "cell_type": "code",
      "source": [
        "def score_model(model, X, y):\n",
        "    y_pred = model.predict(X)\n",
        "    return {\n",
        "        \"accuracy\": accuracy_score(y, y_pred),\n",
        "        \"precision\": precision_score(y, y_pred),\n",
        "        \"recall\": recall_score(y, y_pred),\n",
        "        \"f1_score\": f1_score(y, y_pred)\n",
        "    }\n"
      ],
      "metadata": {
        "id": "6YFXMAfbXzQM"
      },
      "execution_count": 6,
      "outputs": []
    },
    {
      "cell_type": "code",
      "source": [
        "def evaluate_model(model, X, y):\n",
        "    y_pred = model.predict(X)\n",
        "    print(\"Classification Report:\")\n",
        "    print(classification_report(y, y_pred))\n"
      ],
      "metadata": {
        "id": "6rDaN8xiX9IR"
      },
      "execution_count": 7,
      "outputs": []
    },
    {
      "cell_type": "code",
      "source": [
        "def tune_hyperparameters(model, param_grid, X_train, y_train):\n",
        "    grid_search = GridSearchCV(model, param_grid, scoring='f1', cv=3)\n",
        "    grid_search.fit(X_train, y_train)\n",
        "    print(\"Best Parameters:\", grid_search.best_params_)\n",
        "    return grid_search.best_estimator_\n"
      ],
      "metadata": {
        "id": "vKcj71dNYAqB"
      },
      "execution_count": 8,
      "outputs": []
    },
    {
      "cell_type": "markdown",
      "source": [
        "Fitting the models"
      ],
      "metadata": {
        "id": "6Vf_6nREYLeX"
      }
    },
    {
      "cell_type": "markdown",
      "source": [
        "###1. Logistic Regression###"
      ],
      "metadata": {
        "id": "zD395flTsK_z"
      }
    },
    {
      "cell_type": "code",
      "source": [
        "# Fit on Training Data\n",
        "logistic_model = LogisticRegression(class_weight='balanced', solver='liblinear', C=1.0, random_state=42)\n",
        "fitted_logistic_model = fit_model(logistic_model, X_train_tfidf, y_train)"
      ],
      "metadata": {
        "id": "WT56qzGovwWb"
      },
      "execution_count": 9,
      "outputs": []
    },
    {
      "cell_type": "code",
      "source": [
        "# Score on Training Data\n",
        "train_scores = score_model(fitted_logistic_model, X_train_tfidf, y_train)\n",
        "print(\"Training Scores:\", train_scores)\n",
        "\n",
        "# Score on Validation Data\n",
        "validation_scores = score_model(fitted_logistic_model, X_validation_tfidf, y_validation)\n",
        "print(\"Validation Scores:\", validation_scores)\n",
        "\n",
        "# Evaluate on Training Data\n",
        "print(\"Evaluating on Training Data:\")\n",
        "evaluate_model(fitted_logistic_model, X_train_tfidf, y_train)\n",
        "\n",
        "# Evaluate on Validation Data\n",
        "print(\"Evaluating on Validation Data:\")\n",
        "evaluate_model(fitted_logistic_model, X_validation_tfidf, y_validation)"
      ],
      "metadata": {
        "colab": {
          "base_uri": "https://localhost:8080/"
        },
        "id": "Qd7Wo0PnwGmA",
        "outputId": "656ef636-746d-4215-b4ac-9cd5edfd074f"
      },
      "execution_count": 10,
      "outputs": [
        {
          "output_type": "stream",
          "name": "stdout",
          "text": [
            "Training Scores: {'accuracy': 0.99, 'precision': 0.9432234432234432, 'recall': 0.9847036328871893, 'f1_score': 0.9635173058933583}\n",
            "Validation Scores: {'accuracy': 0.9784688995215312, 'precision': 0.9122807017543859, 'recall': 0.9285714285714286, 'f1_score': 0.9203539823008849}\n",
            "Evaluating on Training Data:\n",
            "Classification Report:\n",
            "              precision    recall  f1-score   support\n",
            "\n",
            "           0       1.00      0.99      0.99      3377\n",
            "           1       0.94      0.98      0.96       523\n",
            "\n",
            "    accuracy                           0.99      3900\n",
            "   macro avg       0.97      0.99      0.98      3900\n",
            "weighted avg       0.99      0.99      0.99      3900\n",
            "\n",
            "Evaluating on Validation Data:\n",
            "Classification Report:\n",
            "              precision    recall  f1-score   support\n",
            "\n",
            "           0       0.99      0.99      0.99       724\n",
            "           1       0.91      0.93      0.92       112\n",
            "\n",
            "    accuracy                           0.98       836\n",
            "   macro avg       0.95      0.96      0.95       836\n",
            "weighted avg       0.98      0.98      0.98       836\n",
            "\n"
          ]
        }
      ]
    },
    {
      "cell_type": "markdown",
      "source": [
        "###2. Random Forest Classifier###"
      ],
      "metadata": {
        "id": "Mmo7aNzbpZHK"
      }
    },
    {
      "cell_type": "code",
      "source": [
        "# Fit on Training Data\n",
        "rf_model = RandomForestClassifier(n_estimators=200, max_depth=10, class_weight='balanced',random_state=42)\n",
        "fitted_rf_model = fit_model(rf_model, X_train_tfidf, y_train)"
      ],
      "metadata": {
        "id": "LrVNtSSJpc1D"
      },
      "execution_count": 11,
      "outputs": []
    },
    {
      "cell_type": "code",
      "source": [
        "# Score on Training Data\n",
        "train_scores = score_model(fitted_rf_model, X_train_tfidf, y_train)\n",
        "print(\"Training Scores:\", train_scores)\n",
        "\n",
        "# Score on Validation Data\n",
        "validation_scores = score_model(fitted_rf_model, X_validation_tfidf, y_validation)\n",
        "print(\"Validation Scores:\", validation_scores)\n",
        "\n",
        "# Evaluate on Training Data\n",
        "print(\"Evaluating on Training Data:\")\n",
        "evaluate_model(fitted_rf_model, X_train_tfidf, y_train)\n",
        "\n",
        "# Evaluate on Validation Data\n",
        "print(\"Evaluating on Validation Data:\")\n",
        "evaluate_model(fitted_rf_model, X_validation_tfidf, y_validation)"
      ],
      "metadata": {
        "colab": {
          "base_uri": "https://localhost:8080/"
        },
        "id": "Gp91tVC2puqa",
        "outputId": "44c1794a-453c-49f2-d22b-7dcf9d32c703"
      },
      "execution_count": 12,
      "outputs": [
        {
          "output_type": "stream",
          "name": "stdout",
          "text": [
            "Training Scores: {'accuracy': 0.9835897435897436, 'precision': 0.9956803455723542, 'recall': 0.8814531548757171, 'f1_score': 0.9350912778904665}\n",
            "Validation Scores: {'accuracy': 0.9665071770334929, 'precision': 0.9883720930232558, 'recall': 0.7589285714285714, 'f1_score': 0.8585858585858586}\n",
            "Evaluating on Training Data:\n",
            "Classification Report:\n",
            "              precision    recall  f1-score   support\n",
            "\n",
            "           0       0.98      1.00      0.99      3377\n",
            "           1       1.00      0.88      0.94       523\n",
            "\n",
            "    accuracy                           0.98      3900\n",
            "   macro avg       0.99      0.94      0.96      3900\n",
            "weighted avg       0.98      0.98      0.98      3900\n",
            "\n",
            "Evaluating on Validation Data:\n",
            "Classification Report:\n",
            "              precision    recall  f1-score   support\n",
            "\n",
            "           0       0.96      1.00      0.98       724\n",
            "           1       0.99      0.76      0.86       112\n",
            "\n",
            "    accuracy                           0.97       836\n",
            "   macro avg       0.98      0.88      0.92       836\n",
            "weighted avg       0.97      0.97      0.96       836\n",
            "\n"
          ]
        }
      ]
    },
    {
      "cell_type": "markdown",
      "source": [
        "###3.SVC###"
      ],
      "metadata": {
        "id": "20H6VaJOPUQK"
      }
    },
    {
      "cell_type": "code",
      "source": [
        "# Fit on Training Data\n",
        "svc_model= SVC(kernel='linear', C=0.1, class_weight='balanced', random_state=42)\n",
        "\n",
        "fitted_svc_model = fit_model(svc_model, X_train_tfidf, y_train)"
      ],
      "metadata": {
        "id": "hbmvDYmRqXHt"
      },
      "execution_count": 13,
      "outputs": []
    },
    {
      "cell_type": "code",
      "source": [
        "# Score on Training Data\n",
        "train_scores = score_model(fitted_svc_model, X_train_tfidf, y_train)\n",
        "print(\"Training Scores:\", train_scores)\n",
        "\n",
        "# Score on Validation Data\n",
        "validation_scores = score_model(fitted_svc_model, X_validation_tfidf, y_validation)\n",
        "print(\"Validation Scores:\", validation_scores)\n",
        "\n",
        "# Evaluate on Training Data\n",
        "print(\"Evaluating on Training Data:\")\n",
        "evaluate_model(fitted_svc_model, X_train_tfidf, y_train)\n",
        "\n",
        "# Evaluate on Validation Data\n",
        "print(\"Evaluating on Validation Data:\")\n",
        "evaluate_model(fitted_svc_model, X_validation_tfidf, y_validation)"
      ],
      "metadata": {
        "colab": {
          "base_uri": "https://localhost:8080/"
        },
        "id": "dCVvz-Q5PoqV",
        "outputId": "a92d388d-d28f-4b7c-9f3f-fb8022d4a63a"
      },
      "execution_count": 14,
      "outputs": [
        {
          "output_type": "stream",
          "name": "stdout",
          "text": [
            "Training Scores: {'accuracy': 0.9846153846153847, 'precision': 0.9343339587242027, 'recall': 0.9521988527724665, 'f1_score': 0.9431818181818182}\n",
            "Validation Scores: {'accuracy': 0.9760765550239234, 'precision': 0.9035087719298246, 'recall': 0.9196428571428571, 'f1_score': 0.911504424778761}\n",
            "Evaluating on Training Data:\n",
            "Classification Report:\n",
            "              precision    recall  f1-score   support\n",
            "\n",
            "           0       0.99      0.99      0.99      3377\n",
            "           1       0.93      0.95      0.94       523\n",
            "\n",
            "    accuracy                           0.98      3900\n",
            "   macro avg       0.96      0.97      0.97      3900\n",
            "weighted avg       0.98      0.98      0.98      3900\n",
            "\n",
            "Evaluating on Validation Data:\n",
            "Classification Report:\n",
            "              precision    recall  f1-score   support\n",
            "\n",
            "           0       0.99      0.98      0.99       724\n",
            "           1       0.90      0.92      0.91       112\n",
            "\n",
            "    accuracy                           0.98       836\n",
            "   macro avg       0.95      0.95      0.95       836\n",
            "weighted avg       0.98      0.98      0.98       836\n",
            "\n"
          ]
        }
      ]
    },
    {
      "cell_type": "markdown",
      "source": [
        "###4. Complement Naive Baye's###"
      ],
      "metadata": {
        "id": "nWDHTjEJNMfk"
      }
    },
    {
      "cell_type": "code",
      "source": [
        "from sklearn.naive_bayes import ComplementNB\n",
        "\n",
        "# Initialize the model\n",
        "nb_model = ComplementNB()\n",
        "\n",
        "# Fit the model\n",
        "fitted_nb_model = fit_model(nb_model, X_train_tfidf, y_train)\n",
        "\n",
        "# Score on Training Data\n",
        "train_scores = score_model(fitted_nb_model, X_train_tfidf, y_train)\n",
        "print(\"Training Scores:\", train_scores)\n",
        "\n",
        "# Score on Validation Data\n",
        "validation_scores = score_model(fitted_nb_model, X_validation_tfidf, y_validation)\n",
        "print(\"Validation Scores:\", validation_scores)\n",
        "\n",
        "# Evaluate on Training Data\n",
        "print(\"Evaluating on Training Data:\")\n",
        "evaluate_model(fitted_nb_model, X_train_tfidf, y_train)\n",
        "\n",
        "# Evaluate on Validation Data\n",
        "print(\"Evaluating on Validation Data:\")\n",
        "evaluate_model(fitted_nb_model, X_validation_tfidf, y_validation)\n"
      ],
      "metadata": {
        "colab": {
          "base_uri": "https://localhost:8080/"
        },
        "id": "QGwXSjr1P-me",
        "outputId": "1660e832-c78e-4614-bd9a-4995e8e7e1d8"
      },
      "execution_count": 15,
      "outputs": [
        {
          "output_type": "stream",
          "name": "stdout",
          "text": [
            "Training Scores: {'accuracy': 0.9792307692307692, 'precision': 0.9032846715328468, 'recall': 0.9464627151051626, 'f1_score': 0.9243697478991597}\n",
            "Validation Scores: {'accuracy': 0.9712918660287081, 'precision': 0.9074074074074074, 'recall': 0.875, 'f1_score': 0.8909090909090909}\n",
            "Evaluating on Training Data:\n",
            "Classification Report:\n",
            "              precision    recall  f1-score   support\n",
            "\n",
            "           0       0.99      0.98      0.99      3377\n",
            "           1       0.90      0.95      0.92       523\n",
            "\n",
            "    accuracy                           0.98      3900\n",
            "   macro avg       0.95      0.97      0.96      3900\n",
            "weighted avg       0.98      0.98      0.98      3900\n",
            "\n",
            "Evaluating on Validation Data:\n",
            "Classification Report:\n",
            "              precision    recall  f1-score   support\n",
            "\n",
            "           0       0.98      0.99      0.98       724\n",
            "           1       0.91      0.88      0.89       112\n",
            "\n",
            "    accuracy                           0.97       836\n",
            "   macro avg       0.94      0.93      0.94       836\n",
            "weighted avg       0.97      0.97      0.97       836\n",
            "\n"
          ]
        }
      ]
    },
    {
      "cell_type": "markdown",
      "source": [
        "##Evaluating performance on test dataset##"
      ],
      "metadata": {
        "id": "y0Gj_ixDhTE7"
      }
    },
    {
      "cell_type": "code",
      "source": [
        "#Testing Logistic Regression\n",
        "# On Test Data - Scoring\n",
        "test_scores = score_model(fitted_logistic_model, X_test_tfidf, y_test)\n",
        "print(\"Test Scores:\", test_scores)\n",
        "\n",
        "# On Test Data - Detailed Evaluation\n",
        "print(\"Detailed Evaluation on Test Data:\")\n",
        "evaluate_model(fitted_logistic_model, X_test_tfidf, y_test)\n"
      ],
      "metadata": {
        "colab": {
          "base_uri": "https://localhost:8080/"
        },
        "id": "wDejvwYqjJU1",
        "outputId": "ae1e3078-42b6-4d83-ba3f-d0dfbaa8d34a"
      },
      "execution_count": 22,
      "outputs": [
        {
          "output_type": "stream",
          "name": "stdout",
          "text": [
            "Test Scores: {'accuracy': 0.972488038277512, 'precision': 0.8803418803418803, 'recall': 0.9196428571428571, 'f1_score': 0.8995633187772926}\n",
            "Detailed Evaluation on Test Data:\n",
            "Classification Report:\n",
            "              precision    recall  f1-score   support\n",
            "\n",
            "           0       0.99      0.98      0.98       724\n",
            "           1       0.88      0.92      0.90       112\n",
            "\n",
            "    accuracy                           0.97       836\n",
            "   macro avg       0.93      0.95      0.94       836\n",
            "weighted avg       0.97      0.97      0.97       836\n",
            "\n"
          ]
        }
      ]
    },
    {
      "cell_type": "code",
      "source": [
        "#Testing the Random Forest model\n",
        "# Score on Test Data\n",
        "test_scores = score_model(fitted_rf_model, X_test_tfidf, y_test)\n",
        "print(\"Test Scores:\", test_scores)\n",
        "\n",
        "# Evaluate on Test Data\n",
        "print(\"Evaluating on Test Data:\")\n",
        "evaluate_model(fitted_rf_model, X_test_tfidf, y_test)\n"
      ],
      "metadata": {
        "colab": {
          "base_uri": "https://localhost:8080/"
        },
        "id": "qiwFZomnhVS7",
        "outputId": "97c4fe5e-cc5c-44a8-8987-a26d306106e4"
      },
      "execution_count": 20,
      "outputs": [
        {
          "output_type": "stream",
          "name": "stdout",
          "text": [
            "Test Scores: {'accuracy': 0.972488038277512, 'precision': 0.968421052631579, 'recall': 0.8214285714285714, 'f1_score': 0.8888888888888888}\n",
            "Evaluating on Test Data:\n",
            "Classification Report:\n",
            "              precision    recall  f1-score   support\n",
            "\n",
            "           0       0.97      1.00      0.98       724\n",
            "           1       0.97      0.82      0.89       112\n",
            "\n",
            "    accuracy                           0.97       836\n",
            "   macro avg       0.97      0.91      0.94       836\n",
            "weighted avg       0.97      0.97      0.97       836\n",
            "\n"
          ]
        }
      ]
    },
    {
      "cell_type": "code",
      "source": [
        "#Testing the SVC model\n",
        "# Score on Test Data\n",
        "test_scores = score_model(fitted_svc_model, X_test_tfidf, y_test)\n",
        "print(\"Test Scores:\", test_scores)\n",
        "\n",
        "# Evaluate on Test Data\n",
        "print(\"Evaluating on Test Data:\")\n",
        "evaluate_model(fitted_svc_model, X_test_tfidf, y_test)"
      ],
      "metadata": {
        "id": "8ebvUhsnjTlD",
        "colab": {
          "base_uri": "https://localhost:8080/"
        },
        "outputId": "4bc7e77a-60bf-439b-f89b-4b1bf079d01c"
      },
      "execution_count": 23,
      "outputs": [
        {
          "output_type": "stream",
          "name": "stdout",
          "text": [
            "Test Scores: {'accuracy': 0.9760765550239234, 'precision': 0.9181818181818182, 'recall': 0.9017857142857143, 'f1_score': 0.9099099099099099}\n",
            "Evaluating on Test Data:\n",
            "Classification Report:\n",
            "              precision    recall  f1-score   support\n",
            "\n",
            "           0       0.98      0.99      0.99       724\n",
            "           1       0.92      0.90      0.91       112\n",
            "\n",
            "    accuracy                           0.98       836\n",
            "   macro avg       0.95      0.94      0.95       836\n",
            "weighted avg       0.98      0.98      0.98       836\n",
            "\n"
          ]
        }
      ]
    },
    {
      "cell_type": "code",
      "source": [
        "#Testing the Complement Naive Baye's Model\n",
        "# Score on Test Data\n",
        "test_scores = score_model(fitted_nb_model, X_test_tfidf, y_test)\n",
        "print(\"Test Scores:\", test_scores)\n",
        "\n",
        "# Evaluate on Test Data\n",
        "print(\"Evaluating on Test Data:\")\n",
        "evaluate_model(fitted_nb_model, X_test_tfidf, y_test)"
      ],
      "metadata": {
        "colab": {
          "base_uri": "https://localhost:8080/"
        },
        "id": "38cJbs1qrGeR",
        "outputId": "4c14b381-e8cd-421d-f0ec-da57bf33f99d"
      },
      "execution_count": 24,
      "outputs": [
        {
          "output_type": "stream",
          "name": "stdout",
          "text": [
            "Test Scores: {'accuracy': 0.9760765550239234, 'precision': 0.8898305084745762, 'recall': 0.9375, 'f1_score': 0.9130434782608695}\n",
            "Evaluating on Test Data:\n",
            "Classification Report:\n",
            "              precision    recall  f1-score   support\n",
            "\n",
            "           0       0.99      0.98      0.99       724\n",
            "           1       0.89      0.94      0.91       112\n",
            "\n",
            "    accuracy                           0.98       836\n",
            "   macro avg       0.94      0.96      0.95       836\n",
            "weighted avg       0.98      0.98      0.98       836\n",
            "\n"
          ]
        }
      ]
    },
    {
      "cell_type": "markdown",
      "source": [
        "Plotting the ROC-AUC curve on the test data"
      ],
      "metadata": {
        "id": "aR-p7uXXUhNd"
      }
    },
    {
      "cell_type": "code",
      "source": [
        "import numpy as np\n",
        "import matplotlib.pyplot as plt\n",
        "from sklearn.metrics import roc_curve, auc, roc_auc_score\n",
        "\n",
        "def plot_roc_auc(model, X_test, y_test, model_name=\"Model\"):\n",
        "    \"\"\"\n",
        "    Plots the ROC-AUC curve for a given fitted model.\n",
        "\n",
        "    Parameters:\n",
        "    model : Trained classifier\n",
        "    X_test : Test features\n",
        "    y_test : True labels\n",
        "    model_name : Name of the model (for plot title)\n",
        "    \"\"\"\n",
        "    # Get predicted probabilities\n",
        "    if hasattr(model, \"predict_proba\"):  # Models with predict_proba (LogReg, RF, NB, etc.)\n",
        "        y_probs = model.predict_proba(X_test)[:, 1]  # Probability of class 1\n",
        "    else:  # For models like SVC without predict_proba, use decision_function\n",
        "        y_probs = model.decision_function(X_test)\n",
        "\n",
        "    # Compute ROC curve and AUC\n",
        "    fpr, tpr, _ = roc_curve(y_test, y_probs)\n",
        "    roc_auc = auc(fpr, tpr)\n",
        "\n",
        "    # Plot ROC curve\n",
        "    plt.figure(figsize=(8, 6))\n",
        "    plt.plot(fpr, tpr, color=\"blue\", lw=2, label=f\"AUC = {roc_auc:.3f}\")\n",
        "    plt.plot([0, 1], [0, 1], color=\"gray\", linestyle=\"--\")  # Diagonal line\n",
        "    plt.xlim([0.0, 1.0])\n",
        "    plt.ylim([0.0, 1.05])\n",
        "    plt.xlabel(\"False Positive Rate\")\n",
        "    plt.ylabel(\"True Positive Rate\")\n",
        "    plt.title(f\"ROC-AUC Curve: {model_name}\")\n",
        "    plt.legend(loc=\"lower right\")\n",
        "    plt.grid()\n",
        "    plt.show()\n",
        "\n",
        "    return roc_auc\n"
      ],
      "metadata": {
        "id": "X6c2Ncj2TBbw"
      },
      "execution_count": 25,
      "outputs": []
    },
    {
      "cell_type": "code",
      "source": [
        "roc_auc = plot_roc_auc(fitted_logistic_model, X_test_tfidf, y_test, model_name=\"Logistic Regression Model\")\n",
        "print(\"AUC Score:\", roc_auc)\n"
      ],
      "metadata": {
        "colab": {
          "base_uri": "https://localhost:8080/",
          "height": 581
        },
        "id": "osoRFnITTDCq",
        "outputId": "2ac9ac81-9bc9-483f-c45c-9015fc2bbc4e"
      },
      "execution_count": 32,
      "outputs": [
        {
          "output_type": "display_data",
          "data": {
            "text/plain": [
              "<Figure size 800x600 with 1 Axes>"
            ],
            "image/png": "[encoded data removed]"
          },
          "metadata": {}
        },
        {
          "output_type": "stream",
          "name": "stdout",
          "text": [
            "AUC Score: 0.9907877861089187\n"
          ]
        }
      ]
    },
    {
      "cell_type": "code",
      "source": [
        "roc_auc = plot_roc_auc(fitted_rf_model, X_test_tfidf, y_test, model_name=\"Random Forest Model\")\n",
        "print(\"AUC Score:\", roc_auc)"
      ],
      "metadata": {
        "colab": {
          "base_uri": "https://localhost:8080/",
          "height": 581
        },
        "id": "PV8jq9MnT__C",
        "outputId": "8cf764a6-8605-4940-e049-7181afb77016"
      },
      "execution_count": 29,
      "outputs": [
        {
          "output_type": "display_data",
          "data": {
            "text/plain": [
              "<Figure size 800x600 with 1 Axes>"
            ],
            "image/png": "[encoded data removed]"
          },
          "metadata": {}
        },
        {
          "output_type": "stream",
          "name": "stdout",
          "text": [
            "AUC Score: 0.9851026045777427\n"
          ]
        }
      ]
    },
    {
      "cell_type": "code",
      "source": [
        "roc_auc = plot_roc_auc(fitted_svc_model, X_test_tfidf, y_test, model_name=\"SVC Model\")\n",
        "print(\"AUC Score:\", roc_auc)"
      ],
      "metadata": {
        "colab": {
          "base_uri": "https://localhost:8080/",
          "height": 581
        },
        "id": "kE4UEmLtUIxf",
        "outputId": "8a94ea10-8e6b-4e0f-860e-e551d5212810"
      },
      "execution_count": 30,
      "outputs": [
        {
          "output_type": "display_data",
          "data": {
            "text/plain": [
              "<Figure size 800x600 with 1 Axes>"
            ],
            "image/png": "[encoded data removed]"
          },
          "metadata": {}
        },
        {
          "output_type": "stream",
          "name": "stdout",
          "text": [
            "AUC Score: 0.9898135359116023\n"
          ]
        }
      ]
    },
    {
      "cell_type": "code",
      "source": [
        "roc_auc = plot_roc_auc(fitted_nb_model, X_test_tfidf, y_test, model_name=\"Complement Naive Baye's Model\")\n",
        "print(\"AUC Score:\", roc_auc)"
      ],
      "metadata": {
        "colab": {
          "base_uri": "https://localhost:8080/",
          "height": 581
        },
        "id": "Z_4k846FUPwW",
        "outputId": "13af130d-9c43-4ba0-f28f-4378ec98b16a"
      },
      "execution_count": 31,
      "outputs": [
        {
          "output_type": "display_data",
          "data": {
            "text/plain": [
              "<Figure size 800x600 with 1 Axes>"
            ],
            "image/png": "[encoded data removed]"
          },
          "metadata": {}
        },
        {
          "output_type": "stream",
          "name": "stdout",
          "text": [
            "AUC Score: 0.9810206195737964\n"
          ]
        }
      ]
    },
    {
      "cell_type": "markdown",
      "source": [
        "| Model              | AUC    | Accuracy | Precision | Recall  | F1-Score |\n",
        "|--------------------|--------|----------|-----------|---------|----------|\n",
        "| Logistic Regression| 0.9907 | 0.9725   | 0.8803    | 0.9196  | 0.8996   |\n",
        "| Random Forest      | 0.985  | 0.9725   | 0.9684    | 0.8214  | 0.8888   |\n",
        "| SVC                | 0.9898 | 0.9761   | 0.9181    | 0.9018  | 0.9099   |\n",
        "| Complement NB      | 0.981  | 0.9761   | 0.8898    | 0.9375  | 0.9130   |\n"
      ],
      "metadata": {
        "id": "36fFJkOJ1b3J"
      }
    },
    {
      "cell_type": "markdown",
      "source": [
        "The best overall model is Logistic Regression.\n",
        "* Highest AUC (0.9907) → Best overall classification.\n",
        "* Balanced recall & precision → Less overfitting risk."
      ],
      "metadata": {
        "id": "btfsDwqhzHYd"
      }
    }
  ]
}