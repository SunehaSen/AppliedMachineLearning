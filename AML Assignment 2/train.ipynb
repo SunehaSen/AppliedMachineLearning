{
  "cells": [
    {
      "cell_type": "markdown",
      "source": [
        "**SUNEHA SEN (MDS202351)**"
      ],
      "metadata": {
        "id": "ugEC7llkjvOY"
      }
    },
    {
      "cell_type": "code",
      "source": [
        "!pip install mlflow"
      ],
      "metadata": {
        "id": "pRsWvGYAjLZC"
      },
      "execution_count": null,
      "outputs": []
    },
    {
      "cell_type": "code",
      "execution_count": 2,
      "metadata": {
        "colab": {
          "base_uri": "https://localhost:8080/"
        },
        "id": "Eth1qdgN7xf8",
        "outputId": "407470b0-0f52-4564-fe49-6db7c965b61f"
      },
      "outputs": [
        {
          "output_type": "stream",
          "name": "stderr",
          "text": [
            "[nltk_data] Downloading package punkt_tab to /root/nltk_data...\n",
            "[nltk_data]   Unzipping tokenizers/punkt_tab.zip.\n"
          ]
        }
      ],
      "source": [
        "import pandas as pd\n",
        "\n",
        "from sklearn.feature_extraction.text import TfidfVectorizer\n",
        "from sklearn.svm import SVC\n",
        "from sklearn.ensemble import RandomForestClassifier\n",
        "from sklearn.naive_bayes import MultinomialNB\n",
        "\n",
        "import utils"
      ]
    },
    {
      "cell_type": "code",
      "execution_count": 3,
      "metadata": {
        "id": "3EJZW4GW7xf9"
      },
      "outputs": [],
      "source": [
        "train = pd.read_csv('/content/train.csv')\n",
        "test = pd.read_csv('/content/test.csv')\n",
        "val = pd.read_csv('/content/val.csv')\n",
        "\n",
        "# Drop rows with NaN values if present\n",
        "train = train.dropna()\n",
        "val = val.dropna()\n",
        "test = test.dropna()\n",
        "\n",
        "train_X, train_y = train['processed_text'], train['label']\n",
        "val_X, val_y = val['processed_text'], val['label']\n",
        "test_X, test_y = test['processed_text'], test['label']"
      ]
    },
    {
      "cell_type": "code",
      "execution_count": 4,
      "metadata": {
        "id": "oZJTDAou7xf-"
      },
      "outputs": [],
      "source": [
        "# TF-IDF for vectorizing text\n",
        "vectorizer = TfidfVectorizer(max_features=3000)\n",
        "train_X = vectorizer.fit_transform(train_X)\n",
        "val_X = vectorizer.transform(val_X)\n",
        "test_X = vectorizer.transform(test_X)"
      ]
    },
    {
      "cell_type": "code",
      "execution_count": 5,
      "metadata": {
        "colab": {
          "base_uri": "https://localhost:8080/"
        },
        "id": "QgBAAdXC7xf_",
        "outputId": "bb46d49a-73e5-4317-9134-73b5dd7d6980"
      },
      "outputs": [
        {
          "output_type": "stream",
          "name": "stdout",
          "text": [
            "-----------------SVM-----------------\n",
            "Accuracy: 0.9625151148730351\n",
            "Precision: 0.9767441860465116\n",
            "Recall: 0.7433628318584071\n",
            "F1: 0.8442211055276382\n",
            "AUCPR: 0.7409483094361352\n"
          ]
        },
        {
          "output_type": "stream",
          "name": "stderr",
          "text": [
            "\u001b[31m2025/03/03 19:49:13 WARNING mlflow.models.model: Model logged without a signature and input example. Please set `input_example` parameter when logging the model to auto infer the model signature.\u001b[0m\n",
            "\u001b[31m2025/03/03 19:49:16 WARNING mlflow.models.model: Model logged without a signature and input example. Please set `input_example` parameter when logging the model to auto infer the model signature.\u001b[0m\n",
            "Successfully registered model 'SVM model'.\n",
            "Created version '1' of model 'SVM model'.\n",
            "\u001b[31m2025/03/03 19:49:19 WARNING mlflow.models.model: Model logged without a signature and input example. Please set `input_example` parameter when logging the model to auto infer the model signature.\u001b[0m\n"
          ]
        }
      ],
      "source": [
        "## SVM\n",
        "svm = SVC(random_state=42)\n",
        "svm.fit(train_X, train_y)\n",
        "svm_pred = svm.predict(val_X)\n",
        "print('-----------------SVM-----------------')\n",
        "utils.print_report(svm_pred, val_y)\n",
        "utils.track_using_mlflow(svm, 'SVM', test_X, test_y)"
      ]
    },
    {
      "cell_type": "code",
      "execution_count": 6,
      "metadata": {
        "colab": {
          "base_uri": "https://localhost:8080/"
        },
        "id": "p64WGPvt7xf_",
        "outputId": "5611ee83-150a-44e6-8959-ec9fd19b3828"
      },
      "outputs": [
        {
          "output_type": "stream",
          "name": "stdout",
          "text": [
            "-----------------Random Forest-----------------\n",
            "Accuracy: 0.9576783555018138\n",
            "Precision: 0.9875\n",
            "Recall: 0.6991150442477876\n",
            "F1: 0.8186528497409327\n",
            "AUCPR: 0.7272252972145831\n"
          ]
        },
        {
          "output_type": "stream",
          "name": "stderr",
          "text": [
            "\u001b[31m2025/03/03 19:49:23 WARNING mlflow.models.model: Model logged without a signature and input example. Please set `input_example` parameter when logging the model to auto infer the model signature.\u001b[0m\n",
            "\u001b[31m2025/03/03 19:49:26 WARNING mlflow.models.model: Model logged without a signature and input example. Please set `input_example` parameter when logging the model to auto infer the model signature.\u001b[0m\n",
            "Successfully registered model 'Random Forest model'.\n",
            "Created version '1' of model 'Random Forest model'.\n",
            "\u001b[31m2025/03/03 19:49:29 WARNING mlflow.models.model: Model logged without a signature and input example. Please set `input_example` parameter when logging the model to auto infer the model signature.\u001b[0m\n"
          ]
        }
      ],
      "source": [
        "## Random Forest\n",
        "rf = RandomForestClassifier(max_depth=60, random_state=42)\n",
        "rf.fit(train_X, train_y)\n",
        "rf_pred = rf.predict(val_X)\n",
        "print('-----------------Random Forest-----------------')\n",
        "utils.print_report(rf_pred, val_y)\n",
        "utils.track_using_mlflow(rf, 'Random Forest', test_X, test_y)"
      ]
    },
    {
      "cell_type": "code",
      "execution_count": 7,
      "metadata": {
        "colab": {
          "base_uri": "https://localhost:8080/"
        },
        "id": "jGDmijNg7xgA",
        "outputId": "f091102d-ebdc-4216-bebe-e6cfb32c4ea8"
      },
      "outputs": [
        {
          "output_type": "stream",
          "name": "stdout",
          "text": [
            "-----------------Naive Bayes-----------------\n",
            "Accuracy: 0.9564691656590084\n",
            "Precision: 1.0\n",
            "Recall: 0.6814159292035398\n",
            "F1: 0.8105263157894737\n",
            "AUCPR: 0.7258349295352644\n"
          ]
        },
        {
          "output_type": "stream",
          "name": "stderr",
          "text": [
            "\u001b[31m2025/03/03 19:49:35 WARNING mlflow.models.model: Model logged without a signature and input example. Please set `input_example` parameter when logging the model to auto infer the model signature.\u001b[0m\n",
            "\u001b[31m2025/03/03 19:49:39 WARNING mlflow.models.model: Model logged without a signature and input example. Please set `input_example` parameter when logging the model to auto infer the model signature.\u001b[0m\n",
            "Successfully registered model 'Naive Bayes model'.\n",
            "Created version '1' of model 'Naive Bayes model'.\n",
            "\u001b[31m2025/03/03 19:49:42 WARNING mlflow.models.model: Model logged without a signature and input example. Please set `input_example` parameter when logging the model to auto infer the model signature.\u001b[0m\n"
          ]
        }
      ],
      "source": [
        "# Naive Bayes\n",
        "nb = MultinomialNB()\n",
        "nb.fit(train_X, train_y)\n",
        "nb_pred = nb.predict(val_X)\n",
        "print('-----------------Naive Bayes-----------------')\n",
        "utils.print_report(nb_pred, val_y)\n",
        "utils.track_using_mlflow(nb, 'Naive Bayes', test_X, test_y)"
      ]
    }
  ],
  "metadata": {
    "kernelspec": {
      "display_name": "suneha",
      "language": "python",
      "name": "python3"
    },
    "language_info": {
      "codemirror_mode": {
        "name": "ipython",
        "version": 3
      },
      "file_extension": ".py",
      "mimetype": "text/x-python",
      "name": "python",
      "nbconvert_exporter": "python",
      "pygments_lexer": "ipython3",
      "version": "3.10.13"
    },
    "colab": {
      "provenance": []
    }
  },
  "nbformat": 4,
  "nbformat_minor": 0
}